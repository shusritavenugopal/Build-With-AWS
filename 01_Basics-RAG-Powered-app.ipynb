{
 "cells": [
  {
   "cell_type": "markdown",
   "metadata": {},
   "source": [
    "## AWS Configuration for Amazon Bedrock\n",
    "\n",
    "To work with Amazon Bedrock, I used the following AWS configurations:\n",
    "\n",
    "### AWS Account and Region\n",
    "- **AWS Account**: Used my AWS Account\n",
    "- **Region**: `us-west-2` (Oregon)\n",
    "\n",
    "### SageMaker Studio Setup\n",
    "- **SageMaker Studio Account**: Utilized my SageMaker Studio Account\n",
    "\n",
    "#### Kernel Configuration\n",
    "- **Image**: Data Science 3.0 (or greater)\n",
    "- **Instance Type**: `ml.t3.medium`\n",
    "\n"
   ]
  },
  {
   "cell_type": "markdown",
   "metadata": {},
   "source": [
    "## Configure IAM Policy for Amazon Bedrock Access\n",
    "\n",
    "This notebook requires an IAM role that has access to Amazon Bedrock. Below is an example IAM policy that grants access to Bedrock APIs:\n",
    "\n",
    "### Example IAM Policy\n",
    "\n",
    "```json\n",
    "{\n",
    "    \"Version\": \"2012-10-17\",\n",
    "    \"Statement\": [\n",
    "        {\n",
    "            \"Sid\": \"Statement1\",\n",
    "            \"Effect\": \"Allow\",\n",
    "            \"Action\": \"bedrock:*\",\n",
    "            \"Resource\": \"*\"\n",
    "        }\n",
    "    ]\n",
    "}\n"
   ]
  },
  {
   "cell_type": "markdown",
   "metadata": {},
   "source": [
    "# Amazon Bedrock Model Access Instructions\n",
    "\n",
    "Amazon Bedrock is a fully managed service that offers a choice of high-performing foundation models (FMs) from leading AI companies. Follow the steps below to request access to specific models.\n",
    "\n",
    "## Instructions\n",
    "\n",
    "1. **Access the Amazon Bedrock Console**\n",
    "   - Open the Amazon Bedrock console.\n",
    "\n",
    "2. **Navigate to Model Access**\n",
    "   - In the left menu, go to **Model access**.\n",
    "   - Select **Manage model access**.\n",
    "\n",
    "3. **Request Access to Models**\n",
    "   - On the **Manage model access** page, request access to the following models:\n",
    "     1. **Amazon - Titan Embeddings G1 - Text**\n",
    "     2. **Anthropic - Claude**\n",
    "     3. [Add any additional models you need]\n",
    "\n",
    "4. **Confirm Access**\n",
    "   - Wait for approval and confirmation of access to the requested models.\n",
    "\n"
   ]
  },
  {
   "cell_type": "markdown",
   "metadata": {},
   "source": [
    "## Install AWS SDK for Python (Boto3)\n",
    "To interact with Amazon Bedrock APIs, you need to install the `boto3` and `botocore` libraries. These libraries contain the required dependencies for accessing Bedrock APIs."
   ]
  },
  {
   "cell_type": "code",
   "execution_count": null,
   "metadata": {},
   "outputs": [],
   "source": [
    "%pip install --no-build-isolation --force-reinstall \\\n",
    "    \"boto3>=1.28.57\" \\\n",
    "    \"awscli>=1.29.57\" \\\n",
    "    \"botocore>=1.31.57\"\n"
   ]
  },
  {
   "cell_type": "markdown",
   "metadata": {},
   "source": [
    "## Creating the boto3 client\n",
    "\n",
    "Interaction with the Bedrock API is done via the AWS SDK for Python: [boto3](https://boto3.amazonaws.com/v1/documentation/api/latest/index.html).\n",
    "\n",
    "#### Use different clients\n",
    "The boto3 provides different clients for Amazon Bedrock to perform different actions. The actions for [`InvokeModel`](https://docs.aws.amazon.com/bedrock/latest/APIReference/API_runtime_InvokeModel.html) and [`InvokeModelWithResponseStream`](https://docs.aws.amazon.com/bedrock/latest/APIReference/API_runtime_InvokeModelWithResponseStream.html) are supported by Amazon Bedrock Runtime where as other operations, such as [ListFoundationModels](https://docs.aws.amazon.com/bedrock/latest/APIReference/API_ListFoundationModels.html), are handled via [Amazon Bedrock client](https://docs.aws.amazon.com/bedrock/latest/APIReference/API_Operations_Amazon_Bedrock.html).\n",
    "\n",
    "I'm running this notebook from Amazon Sagemaker Studio, a free fully managed integrated development environments (IDEs) for ML development [execution role](https://docs.aws.amazon.com/sagemaker/latest/dg/sagemaker-roles.html)"
   ]
  },
  {
   "cell_type": "code",
   "execution_count": null,
   "metadata": {},
   "outputs": [],
   "source": [
    "import json\n",
    "import os\n",
    "import sys\n",
    "\n",
    "import boto3\n",
    "\n",
    "boto3_bedrock = boto3.client('bedrock')"
   ]
  },
  {
   "cell_type": "markdown",
   "metadata": {},
   "source": [
    "#### Validate the connection\n",
    "To ensure the client is functioning correctly, we can use the list_foundation_models() method to retrieve a list of all available models."
   ]
  },
  {
   "cell_type": "code",
   "execution_count": null,
   "metadata": {},
   "outputs": [],
   "source": [
    "boto3_bedrock.list_foundation_models()"
   ]
  },
  {
   "cell_type": "markdown",
   "metadata": {},
   "source": []
  }
 ],
 "metadata": {
  "language_info": {
   "name": "python"
  }
 },
 "nbformat": 4,
 "nbformat_minor": 2
}
